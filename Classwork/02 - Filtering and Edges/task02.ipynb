{
 "cells": [
  {
   "cell_type": "code",
   "execution_count": 5,
   "id": "5e1fc1fc-b343-446e-9e6c-b7c5ee98f9c9",
   "metadata": {},
   "outputs": [],
   "source": [
    "import cv2\n",
    "import cv2 as cv\n",
    "from matplotlib import pyplot as plt"
   ]
  },
  {
   "cell_type": "markdown",
   "id": "60cbef05-8183-45dc-9792-cbb48f00d089",
   "metadata": {},
   "source": [
    "## Qestion 1:\n",
    "- Compute the histogram of the image `mountain.jpeg` using bins ranging from 0 to 255 and display\n",
    "\n",
    "- Find the average number of pixels in the histogram."
   ]
  },
  {
   "cell_type": "code",
   "execution_count": 3,
   "id": "409ddf98-7590-4ccd-b4d8-608734a7ca75",
   "metadata": {},
   "outputs": [],
   "source": [
    "# Question 1\n",
    "# You code\n",
    "\n",
    "# Read the image\n",
    "image = cv.imread('./mountain.jpg', cv.IMREAD_GRAYSCALE)\n",
    "\n"
   ]
  },
  {
   "cell_type": "markdown",
   "id": "8f454740-2b49-4b69-913e-ea349061c1e9",
   "metadata": {},
   "source": [
    "## Question 2:\n",
    "Remove noise from the image`burj_sp.jpg` and display the resultant image. Use gray colormap to display."
   ]
  },
  {
   "cell_type": "code",
   "execution_count": 4,
   "id": "a35797a7-40fe-48cd-aecf-ce402d3ee121",
   "metadata": {},
   "outputs": [],
   "source": [
    "# Question 2\n",
    "# Your code\n",
    "image = cv.imread('burj_sp.jpg', cv.IMREAD_GRAYSCALE)\n"
   ]
  },
  {
   "cell_type": "markdown",
   "id": "5f494074-30ac-4d5e-a700-ba83b0fa5625",
   "metadata": {},
   "source": [
    "## Question  3\n",
    "Apply an edge detection algorithm to detect the road edges in the image road.jpg. Fine-tune the thresholds to exclusively detect the road edges while minimizing detection of other features in the image. Insert the resultant edge image on the right. Use gray colormap to display"
   ]
  },
  {
   "cell_type": "code",
   "execution_count": null,
   "id": "6c523e07-3943-4916-b929-7efb7fe0f5ba",
   "metadata": {},
   "outputs": [],
   "source": []
  }
 ],
 "metadata": {
  "kernelspec": {
   "display_name": "Python 3 (ipykernel)",
   "language": "python",
   "name": "python3"
  },
  "language_info": {
   "codemirror_mode": {
    "name": "ipython",
    "version": 3
   },
   "file_extension": ".py",
   "mimetype": "text/x-python",
   "name": "python",
   "nbconvert_exporter": "python",
   "pygments_lexer": "ipython3",
   "version": "3.10.10"
  }
 },
 "nbformat": 4,
 "nbformat_minor": 5
}

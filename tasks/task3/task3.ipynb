{
 "cells": [
  {
   "cell_type": "code",
   "execution_count": 2,
   "id": "c7f0927c-4245-4aef-a7d6-635ce8943399",
   "metadata": {},
   "outputs": [],
   "source": [
    "import cv2\n",
    "from matplotlib import pyplot as plt \n",
    "import numpy as np"
   ]
  },
  {
   "cell_type": "code",
   "execution_count": 3,
   "id": "033c7b56-8c07-4c78-b06f-559abbb1f674",
   "metadata": {},
   "outputs": [],
   "source": [
    "# Load images\n",
    "image1 = cv2.imread('./notre1.jpg', cv2.IMREAD_GRAYSCALE)\n",
    "image2 = cv2.imread('./notre2.jpg', cv2.IMREAD_GRAYSCALE)"
   ]
  },
  {
   "cell_type": "code",
   "execution_count": null,
   "id": "a9eab569-e0a7-49e0-a109-866e6196dd1c",
   "metadata": {},
   "outputs": [],
   "source": [
    "# Image 1 keypoints\n",
    "# TODO: create  manual keypoints at [(255,150,30), (200,190,15)] and display\n",
    "sift = cv2.SIFT_create()\n",
    "kp1 = [cv2.KeyPoint(x=255, y=150, size=30), cv2.KeyPoint(x=200, y=190, size=15)]"
   ]
  },
  {
   "cell_type": "code",
   "execution_count": 2,
   "id": "ae7cdc10-f46b-4798-bf36-bb64584ea869",
   "metadata": {},
   "outputs": [],
   "source": [
    "# Image 2 keypoints\n",
    "# TODO: create  manual keypoints at [(115, 175, 30), (168,155, 15), (25,216,15), (50,214,15), (160,210,15)] and display\n"
   ]
  },
  {
   "cell_type": "code",
   "execution_count": 3,
   "id": "c271fc21-b825-4bd5-8c70-65a0ae184809",
   "metadata": {},
   "outputs": [],
   "source": [
    "# Draw the Matched keyponts\n"
   ]
  },
  {
   "attachments": {},
   "cell_type": "markdown",
   "id": "a5554501-0280-4c9a-8e56-3c92bdfdf42c",
   "metadata": {},
   "source": [
    "## Nearest Neighbor Distance Ratio\n",
    "Nearest Neighbor Distance Ratio = $\\frac{NN1}{NN2}$ \n",
    "\n",
    "where NN1 is the distance to the first nearest neighbor and NN2 is the distance to the second nearest neighbor.\n",
    "\n",
    "Sorting by this ratio puts matches in order of confidence.\r\n",
    "Keep only those matches where $\\frac{NN1}{NN2}$  < some threshold\n",
    "\n"
   ]
  },
  {
   "cell_type": "code",
   "execution_count": 4,
   "id": "bb701303-7e4e-4222-9fd0-9b58c7d6a484",
   "metadata": {},
   "outputs": [],
   "source": [
    "# TODO\n",
    "# Keep only those matches where Nearest Neighbor Distance Ratio is less than 0.8 \n"
   ]
  },
  {
   "cell_type": "code",
   "execution_count": null,
   "id": "ec426d3a-6403-4604-aba2-8eb06ba0361d",
   "metadata": {},
   "outputs": [],
   "source": []
  }
 ],
 "metadata": {
  "kernelspec": {
   "display_name": "Python 3 (ipykernel)",
   "language": "python",
   "name": "python3"
  },
  "language_info": {
   "codemirror_mode": {
    "name": "ipython",
    "version": 3
   },
   "file_extension": ".py",
   "mimetype": "text/x-python",
   "name": "python",
   "nbconvert_exporter": "python",
   "pygments_lexer": "ipython3",
   "version": "3.10.10"
  }
 },
 "nbformat": 4,
 "nbformat_minor": 5
}

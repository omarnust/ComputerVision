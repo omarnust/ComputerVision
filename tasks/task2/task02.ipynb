{
 "cells": [
  {
   "cell_type": "code",
   "execution_count": 2,
   "id": "5e1fc1fc-b343-446e-9e6c-b7c5ee98f9c9",
   "metadata": {},
   "outputs": [],
   "source": [
    "import cv2\n",
    "import cv2 as cv\n",
    "from matplotlib import pyplot as plt"
   ]
  },
  {
   "cell_type": "markdown",
   "id": "509d6cb3-8dc7-4773-92e1-9243362ec13c",
   "metadata": {},
   "source": [
    "# Task2\n",
    "\n",
    "### Name: \n",
    "### ID:\n"
   ]
  },
  {
   "attachments": {},
   "cell_type": "markdown",
   "id": "60cbef05-8183-45dc-9792-cbb48f00d089",
   "metadata": {},
   "source": [
    "## Qestion 1:\n",
    "- Compute the histogram of the image `mountain.jpeg` using bins ranging from 0 to 255 and display\n",
    "\n",
    "- Find the average number of pixels in the histogram."
   ]
  },
  {
   "cell_type": "code",
   "execution_count": 3,
   "id": "409ddf98-7590-4ccd-b4d8-608734a7ca75",
   "metadata": {},
   "outputs": [],
   "source": [
    "# Question 1\n",
    "# You code\n",
    "\n",
    "# Read the image\n",
    "image = cv.imread('./mountain.jpg', cv.IMREAD_GRAYSCALE)\n"
   ]
  },
  {
   "cell_type": "markdown",
   "id": "8f454740-2b49-4b69-913e-ea349061c1e9",
   "metadata": {},
   "source": [
    "## Question 2:\n",
    "Remove noise from the image`burj_sp.jpg` and display the resultant image. Use gray colormap to display."
   ]
  },
  {
   "cell_type": "code",
   "execution_count": 4,
   "id": "a35797a7-40fe-48cd-aecf-ce402d3ee121",
   "metadata": {},
   "outputs": [],
   "source": [
    "# Question 2\n",
    "# Your code\n",
    "image = cv.imread('burj_sp.jpg', cv.IMREAD_GRAYSCALE)\n"
   ]
  },
  {
   "cell_type": "markdown",
   "id": "081beee5-6d8a-41d3-84d3-9c60e8639e9c",
   "metadata": {},
   "source": [
    "## Question  3\n",
    "What is the Response of the Harris Matrix $ H_1 $ and $ H_2 $ When $ k = 0.05 $?\n",
    "\n",
    "Given the Harris matrices:\n",
    "\n",
    "$$\n",
    "H_1 = \n",
    "\\begin{bmatrix} \n",
    "11 & 2 \\\\ \n",
    "2 & 10 \n",
    "\\end{bmatrix}\n",
    "$$\n",
    "\n",
    "$$\n",
    "H_2 = \n",
    "\\begin{bmatrix} \n",
    "10 & 1 \\\\ \n",
    "1 & 9 \n",
    "\\end{bmatrix}\n",
    "$$\n",
    "\n",
    "Write python code to compute the response $R$"
   ]
  },
  {
   "cell_type": "code",
   "execution_count": 5,
   "id": "ea03fef1-bd3d-4804-893a-64278cb07165",
   "metadata": {},
   "outputs": [],
   "source": [
    "# Question 3\n",
    "\n"
   ]
  },
  {
   "cell_type": "markdown",
   "id": "cde906ff-22f3-42b7-af11-ce027f93049a",
   "metadata": {},
   "source": [
    "## Question 4\n",
    "In this question, you will generate a hybrid images by combining the low-frequency content of one image with the high-frequency content of another image. This technique produces interesting visual effects where, at different viewing distances, the image appears different based on which frequencies are more perceptible.\n",
    "Complete all the steps below. "
   ]
  },
  {
   "cell_type": "code",
   "execution_count": 46,
   "id": "adfc8f24-07db-47e9-b047-084bbd8b3eed",
   "metadata": {},
   "outputs": [],
   "source": [
    "# Read the two images in color\n",
    "image1 = cv2.imread('bird.bmp')\n",
    "image2 = cv2.imread('plane.bmp')"
   ]
  },
  {
   "cell_type": "code",
   "execution_count": 6,
   "id": "75c37b2e-e622-4601-ab19-0f28f12675d7",
   "metadata": {},
   "outputs": [],
   "source": [
    "# Step 1: Convert images to float and divide by 255.0.\n",
    "\n"
   ]
  },
  {
   "cell_type": "code",
   "execution_count": 7,
   "id": "5a6fe6c5-a53f-4dcf-9b10-1fede7344dd6",
   "metadata": {},
   "outputs": [],
   "source": [
    "# Step 2: Extract the low-frequency component of image1 by applying Gaussian blur to image1\n",
    "sigma = 4\n",
    "ksize = sigma * 4 + 1\n"
   ]
  },
  {
   "cell_type": "code",
   "execution_count": 8,
   "id": "c239bf0d-4a96-4ce1-89bf-2a6dff198b67",
   "metadata": {},
   "outputs": [],
   "source": [
    "# Step 3: Extract the high-frequency component of image2. \n",
    "# The easiest way to do this is to subtract a blurred version of image2 from the original version of image2. \n",
    "# This will give you an image centered at zero\n",
    "\n"
   ]
  },
  {
   "cell_type": "code",
   "execution_count": 9,
   "id": "b0e3f676-bb8d-4201-9d1a-34dbc239496d",
   "metadata": {},
   "outputs": [],
   "source": [
    "# Step 4: Hybrid Image Construction: \n",
    "# Combine (add) the low frequencies from one image and the high frequencies from the other image to create the hybrid image.\n",
    "\n"
   ]
  },
  {
   "cell_type": "code",
   "execution_count": 10,
   "id": "0555b0cc-7a96-4e73-9d76-fed707dc83a0",
   "metadata": {},
   "outputs": [],
   "source": [
    "# Step 5: Show the Hybrid image using matplotlib\n",
    "\n"
   ]
  },
  {
   "cell_type": "markdown",
   "id": "71d99256-7218-4b9f-a046-a358face4509",
   "metadata": {},
   "source": [
    "# Question 5\n",
    "An image $I$ undergoes an affine intensity change,$I^c=aI+b$.\n",
    "Let $R$ be the Harris corner response of the original image $I$.\n",
    "Write Python code to compute the Harris corner response of the image $I^c$, without computing the derivatives of the image $I^c$.\n"
   ]
  },
  {
   "cell_type": "code",
   "execution_count": null,
   "id": "0cdb6017-16dd-4a29-b0ca-c16733cfd12d",
   "metadata": {},
   "outputs": [],
   "source": [
    "# Question 5\n",
    "# Your code"
   ]
  }
 ],
 "metadata": {
  "kernelspec": {
   "display_name": "Python 3 (ipykernel)",
   "language": "python",
   "name": "python3"
  },
  "language_info": {
   "codemirror_mode": {
    "name": "ipython",
    "version": 3
   },
   "file_extension": ".py",
   "mimetype": "text/x-python",
   "name": "python",
   "nbconvert_exporter": "python",
   "pygments_lexer": "ipython3",
   "version": "3.10.10"
  }
 },
 "nbformat": 4,
 "nbformat_minor": 5
}

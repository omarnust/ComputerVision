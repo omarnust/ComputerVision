{
 "cells": [
  {
   "cell_type": "code",
   "execution_count": 1,
   "id": "a7312f5a-1159-47d3-9c85-a1ec2ac1136c",
   "metadata": {},
   "outputs": [],
   "source": [
    "#!pip install torch torchvision\n",
    "import torch\n",
    "from torch import nn\n",
    "from torch import optim\n",
    "from torch.utils.data import Dataset\n",
    "from torch.utils.data import DataLoader\n",
    "from torchvision import datasets\n",
    "from torchvision import transforms\n",
    "from torchvision.transforms import ToTensor\n",
    "\n",
    "import numpy as np\n",
    "from matplotlib import pyplot as plt\n",
    "\n",
    "from IPython.display import Markdown"
   ]
  },
  {
   "cell_type": "markdown",
   "id": "cf42e727-fc4d-40ca-a9d3-a38a81916e90",
   "metadata": {},
   "source": [
    "# PyTorch"
   ]
  },
  {
   "cell_type": "markdown",
   "id": "01999463-c74a-4ffd-9b5b-a29d437d3cd8",
   "metadata": {},
   "source": [
    "PyTorch is an open source machine learning library based on the Torch library, used for applications such as computer vision and natural language processing, primarily developed by Facebook's AI Research lab. It is free and open-source software released under the Modified BSD license"
   ]
  },
  {
   "cell_type": "markdown",
   "id": "2b99098e-2884-4d30-b2e2-a33edfce45c7",
   "metadata": {},
   "source": [
    "## PyTorch Tensors\n",
    "Tensors are a specialized data structure that are very similar to arrays and matrices. In PyTorch, we use tensors to encode the inputs ($x$) and outputs ($y$) of a model, as well as the model’s parameters (weights).\n",
    "\n",
    "Tensors are similar to NumPy’s ndarrays, except that tensors can run on GPUs or other hardware accelerators. In fact, tensors and NumPy arrays can often share the same underlying memory, eliminating the need to copy data. \n",
    "\n",
    "[Additional Reading](https://pytorch.org/tutorials/beginner/basics/tensor_tutorial.html)"
   ]
  },
  {
   "cell_type": "code",
   "execution_count": 12,
   "id": "78d42989-1288-46a5-b968-ba0d25fe0762",
   "metadata": {},
   "outputs": [
    {
     "name": "stdout",
     "output_type": "stream",
     "text": [
      "torch.int64\n"
     ]
    }
   ],
   "source": [
    "a = np.array([[1,2],[3,4]])\n",
    "t1 = torch.tensor(a)\n",
    "t2 = torch.from_numpy(a)\n",
    "\n",
    "t3 = torch.tensor([[1,2]])\n",
    "\n",
    "print(t3.dtype)\n",
    "t4 = torch.tensor([[2,3]], dtype=torch.float16)\n",
    "#print(t4.dtype)\n",
    "\n",
    "t5 = torch.ones_like(t3)\n",
    "\n",
    "#print(t5)"
   ]
  },
  {
   "cell_type": "markdown",
   "id": "4a7d6af3-1170-4728-b917-e2eb9de616c8",
   "metadata": {},
   "source": [
    "## Pytorch AutoGrad\n",
    "\n",
    "$ f = x^2 + 3x + 1$\n",
    "\n",
    "$ \\frac{df}{dx} = 2x + 3$\n"
   ]
  },
  {
   "cell_type": "code",
   "execution_count": 13,
   "id": "0b5154d6-67a0-488a-81ba-9a2a4d637793",
   "metadata": {},
   "outputs": [
    {
     "name": "stdout",
     "output_type": "stream",
     "text": [
      "tensor([7.])\n",
      "tensor([10.])\n"
     ]
    }
   ],
   "source": [
    "x = torch.tensor([2.0], requires_grad=True)\n",
    "z = torch.tensor([5.0], requires_grad=True)\n",
    "y = x ** 2 + 3 * x + 1 + z**2\n",
    "y.backward()\n",
    "print(x.grad) # gradient of y w.r.t x at x=2\n",
    "print(z.grad)"
   ]
  },
  {
   "cell_type": "markdown",
   "id": "91facfbe-d50d-434d-8bf6-f7b9f1c5a2e6",
   "metadata": {},
   "source": [
    "## Perceptron\n",
    "Build a perceptron featuring two inputs $(x_1, x_2)$ and a single output. \n",
    "\n",
    "Initialize all weights ($𝑤_0$, $𝑤_2$, $𝑤_3$) to 1. \n",
    "\n",
    "Take a training data point, $x_1=4$, $x_2=-1$, and $y=1$. \n",
    "\n",
    "Employ the backpropagation algorithm to demonstrate how this neural network evolves during the processing of the given training example. Set the learning rate $\\alpha$ to 0.5 and utilize the squared loss function.\n",
    "\n",
    "---\n",
    "\n",
    "**Given values:**\n",
    "$\n",
    "W =\n",
    "\\begin{bmatrix} 1 \\\\ 1 \\\\ 1 \\end{bmatrix}, \\quad\n",
    "\\mathbf{x} =\n",
    "\\begin{bmatrix} 1 \\\\ 4 \\\\ -1 \\end{bmatrix}, \\quad\n",
    "y = 1, \\quad \\alpha = 0.5\n",
    "$\n",
    "\n",
    "**Forward pass:**\n",
    "$\n",
    "h = W^T \\mathbf{x}\n",
    "$\n",
    "\n",
    "$\n",
    "h = (1 \\times 1) + (1 \\times 4) + (1 \\times -1) = 1 + 4 - 1 = 4\n",
    "$\n",
    "\n",
    "**Backward pass:**\n",
    "$\n",
    "J =  (h - y)^2\n",
    "$\n",
    "\n",
    "$\n",
    "J =  (4 - 1)^2 = (3)^2 = 9 \n",
    "$\n",
    "\n",
    "$\n",
    "\\frac{\\partial J}{\\partial W} = 2(h-y) \\cdot \\mathbf{x}\n",
    "$\n",
    "\n",
    "**Weight Update**\n",
    "$\n",
    "W \\leftarrow W - \\alpha \\frac{\\partial L}{\\partial W}\n",
    "$\n",
    "\n",
    "$\n",
    "\\mathbf{W} \\leftarrow\n",
    "\\begin{bmatrix} 1 \\\\ 1 \\\\ 1 \\end{bmatrix}\n",
    "- 0.5 \\times\n",
    "\\begin{bmatrix} 6 \\\\ 24 \\\\ -6 \\end{bmatrix}\n",
    "$\n",
    "\n",
    "\n",
    "$\n",
    "\\mathbf{W} =\n",
    "\\begin{bmatrix} -2 \\\\ -11 \\\\ 4 \\end{bmatrix}\n",
    "$\n",
    "\n"
   ]
  },
  {
   "cell_type": "code",
   "execution_count": 11,
   "id": "0e0ba6b1-45f8-400f-9452-c021577f1110",
   "metadata": {},
   "outputs": [
    {
     "name": "stdout",
     "output_type": "stream",
     "text": [
      "Forward Pass, h= 4.0\n",
      "Loss J=9.0\n",
      "Backward pass, Derivatives= tensor([ 6., 24., -6.])\n",
      "Weights update, w= tensor([ -2., -11.,   4.], grad_fn=<SubBackward0>)\n"
     ]
    }
   ],
   "source": [
    "x = torch.tensor([1., 4., -1.]) \n",
    "y = torch.tensor([1.]) \n",
    "w = torch.tensor([1., 1., 1.], requires_grad=True)\n",
    "h = torch.matmul(w,x)           # 1. forward pass\n",
    "print(f'Forward Pass, h= {h}')\n",
    "J = (h-y)**2 # Squared loss\n",
    "print(f'Loss J={J.item()}')\n",
    "J.backward()                    # 2. backward pass\n",
    "print(f'Backward pass, Derivatives= {w.grad}')\n",
    "w = w - 0.5*w.grad # alpha is 0.5 here   #  3.  Update the weights\n",
    "print(f'Weights update, w= {w}')"
   ]
  },
  {
   "cell_type": "code",
   "execution_count": 14,
   "id": "53baa6fb-2568-4ee4-9a51-4426ef037ecb",
   "metadata": {},
   "outputs": [
    {
     "name": "stdout",
     "output_type": "stream",
     "text": [
      "Forward Pass, h= Linear(in_features=2, out_features=1, bias=True)\n",
      "Backward pass, Derivatives= tensor([[6.]]) tensor([[24., -6.]])\n",
      "Weights update, w= [[-2.]] [[-11.   4.]]\n"
     ]
    }
   ],
   "source": [
    "# Using PyTorch Optimizer\n",
    "x = torch.tensor([[4., -1.]]) \n",
    "y = torch.tensor([[1.]]) \n",
    "\n",
    "h = nn.Linear(2, 1, bias=True) # h = w x + b\n",
    "\n",
    "h.weight = nn.Parameter(torch.tensor([[1., 1.]]))  \n",
    "h.bias = nn.Parameter(torch.tensor([[1.]]))  \n",
    "\n",
    "optimizer = optim.SGD(h.parameters(), lr = 0.5) # gradient descent with learning rate lr\n",
    "Cost = nn.MSELoss() # mean squared error\n",
    "\n",
    "# one iteration of Backpropagation algo\n",
    "optimizer.zero_grad()\n",
    "out = h(x)\n",
    "print(f'Forward Pass, h= {h}')\n",
    "loss = Cost(out, y)\n",
    "loss.backward()\n",
    "print(f'Backward pass, Derivatives= {h.bias.grad} {h.weight.grad}')\n",
    "optimizer.step()\n",
    "print(f'Weights update, w= {h.bias.detach().numpy()} {h.weight.detach().numpy()}')"
   ]
  },
  {
   "cell_type": "markdown",
   "id": "abfaac81-88ee-44eb-b8a3-5cf2912d5d73",
   "metadata": {},
   "source": [
    "## Linear Example"
   ]
  },
  {
   "cell_type": "code",
   "execution_count": 94,
   "id": "11a21c15-c15d-4850-96b0-5edc20f693b9",
   "metadata": {},
   "outputs": [
    {
     "data": {
      "image/png": "[encoded data removed]",
      "text/plain": [
       "<Figure size 640x480 with 1 Axes>"
      ]
     },
     "metadata": {},
     "output_type": "display_data"
    }
   ],
   "source": [
    "np.random.seed(42)\n",
    "x_data = np.sort(-2. + 4. * np.random.rand(20))\n",
    "y_data = 5. * x_data + 2.5 + np.random.randn(20)\n",
    "\n",
    "X = torch.tensor(x_data[:,np.newaxis], dtype=torch.float32)\n",
    "Y = torch.tensor(y_data[:,np.newaxis], dtype=torch.float32)\n",
    "\n",
    "# Linear regression hypothesis using Pytorch\n",
    "h = nn.Linear(1, 1, bias=True) # h = w x + b\n",
    "\n",
    "optimizer = optim.SGD(h.parameters(), lr = .1) # stochastic gradient descent with learning rate lr\n",
    "Cost = nn.MSELoss() # mean squared error\n",
    "\n",
    "for i in range(50):\n",
    "    optimizer.zero_grad()\n",
    "    out = h(X) # forward pass\n",
    "    loss = Cost(out, Y)\n",
    "    loss.backward() #backward pass\n",
    "    optimizer.step() # step\n",
    "\n",
    "plt.plot(x_data, y_data, 'b.')\n",
    "x = torch.tensor(np.linspace(-2.0, 2.0, 100).reshape(-1,1), dtype=torch.float32)\n",
    "y = h(x).detach().numpy()\n",
    "plt.plot(x,y,'r')\n",
    "plt.ylim([-15, 15])\n",
    "plt.xlim([-2, 2])\n",
    "plt.grid('on')\n"
   ]
  },
  {
   "cell_type": "markdown",
   "id": "eb4178a4-1b9d-48f8-a74c-4d30f9ccdb94",
   "metadata": {},
   "source": [
    "## Non-Linear Example\n",
    "\n",
    "We will design a 2-Hidden layers Neural Network to predict the following data"
   ]
  },
  {
   "cell_type": "code",
   "execution_count": 96,
   "id": "c5647c61-9ae8-47b0-9d9d-703cecaf8731",
   "metadata": {},
   "outputs": [
    {
     "name": "stdout",
     "output_type": "stream",
     "text": [
      "Epoch [500/10000], Loss: 13.6985\n",
      "Epoch [1000/10000], Loss: 9.8689\n",
      "Epoch [1500/10000], Loss: 8.4577\n",
      "Epoch [2000/10000], Loss: 9.1583\n",
      "Epoch [2500/10000], Loss: 7.2907\n",
      "Epoch [3000/10000], Loss: 5.9827\n",
      "Epoch [3500/10000], Loss: 5.0238\n",
      "Epoch [4000/10000], Loss: 4.4314\n",
      "Epoch [4500/10000], Loss: 4.7058\n",
      "Epoch [5000/10000], Loss: 4.3430\n",
      "Epoch [5500/10000], Loss: 3.8902\n",
      "Epoch [6000/10000], Loss: 3.7098\n",
      "Epoch [6500/10000], Loss: 3.2642\n",
      "Epoch [7000/10000], Loss: 2.9958\n",
      "Epoch [7500/10000], Loss: 2.7665\n",
      "Epoch [8000/10000], Loss: 2.6808\n",
      "Epoch [8500/10000], Loss: 2.5819\n",
      "Epoch [9000/10000], Loss: 2.3985\n",
      "Epoch [9500/10000], Loss: 2.2317\n",
      "Epoch [10000/10000], Loss: 2.2265\n"
     ]
    },
    {
     "data": {
      "text/plain": [
       "Text(0.5, 1.0, 'Synthetic data')"
      ]
     },
     "execution_count": 96,
     "metadata": {},
     "output_type": "execute_result"
    },
    {
     "data": {
      "image/png": "[encoded data removed]",
      "text/plain": [
       "<Figure size 640x480 with 1 Axes>"
      ]
     },
     "metadata": {},
     "output_type": "display_data"
    }
   ],
   "source": [
    "# Generate synthetic data for number of hours spend on video games vs happiness level\n",
    "np.random.seed(42)\n",
    "hours = torch.linspace(0, 14, 100).view(-1, 1) # 100 numbers between 0 and 14\n",
    "happiness = 10 + 2 * hours + 0.2*np.random.normal(0, 5, 100).astype(np.float32).reshape(-1,1) - 0.2 * hours**2\n",
    "x = hours\n",
    "y = happiness\n",
    "# Define a neural network\n",
    "class MyModel(nn.Module):\n",
    "    def __init__(self):\n",
    "        super().__init__()\n",
    "        self.layer1 = nn.Linear(1, 6, bias=True)  # Input to hidden layer       \n",
    "        self.layer2 = nn.Linear(6, 6)  \n",
    "        self.layer3 = nn.Linear(6, 1)  # Hidden layer to output\n",
    "\n",
    "    def forward(self, x):\n",
    "        x = torch.relu(self.layer1(x))\n",
    "        x = torch.relu(self.layer2(x))\n",
    "        x = self.layer3(x)\n",
    "        return x\n",
    "\n",
    "# Instantiate the model, define loss function, and optimizer\n",
    "model = MyModel()\n",
    "\n",
    "criterion = nn.MSELoss()\n",
    "optimizer = optim.SGD(model.parameters(), lr=0.001)\n",
    "\n",
    "# Train the neural network\n",
    "num_epochs = 10000\n",
    "for epoch in range(num_epochs):\n",
    "    optimizer.zero_grad()\n",
    "    \n",
    "    # Forward pass\n",
    "    y_pred = model(x) #model.forward(x)\n",
    "    # Compute the loss\n",
    "    loss = criterion(y_pred, y)\n",
    "    # Backward pass and optimization\n",
    "    loss.backward()\n",
    "    optimizer.step()\n",
    "\n",
    "    if (epoch + 1) % 500 == 0:\n",
    "        print(f'Epoch [{epoch+1}/{num_epochs}], Loss: {loss.item():.4f}')\n",
    "\n",
    "\n",
    "## Plot the results\n",
    "plt.plot(x,y, '.')\n",
    "out = model(x)\n",
    "plt.plot(x,out.detach().numpy(), 'r')\n",
    "plt.xlabel('Hours playing video games')\n",
    "plt.ylabel('happiness level')\n",
    "plt.title('Synthetic data')"
   ]
  },
  {
   "cell_type": "markdown",
   "id": "d9ba2b10-c658-4c19-9bf2-f8cfdaa55ef2",
   "metadata": {},
   "source": [
    "# MNIST Image Classification\n",
    "### 1.  Loading the MNIST dataset"
   ]
  },
  {
   "cell_type": "code",
   "execution_count": 2,
   "id": "7321b558-b088-4ca6-b408-e7ec6f8bee95",
   "metadata": {},
   "outputs": [
    {
     "data": {
      "text/markdown": [
       "\n",
       "The data is contained in the ```training_data.data``` and the labels\n",
       "in ```training_data.targets```.\n",
       "\n",
       "You can also access the data using indexing ```training_data[index]```\n",
       "\n",
       "The ```Dataset``` retrieves our dataset’s features and labels one sample at a time. While training a model, \n",
       "we typically want to pass samples in “minibatches”, reshuffle the data at every epoch to reduce model overfitting\n",
       "\n",
       "```DataLoader``` is an iterable that abstracts this complexity for us in an easy API.\n",
       "\n",
       "```train_features, train_labels = next(iter(train_dataloader))```\n",
       "\n",
       "[Additional Reading](https://pytorch.org/tutorials/beginner/basics/data_tutorial.html)\n"
      ],
      "text/plain": [
       "<IPython.core.display.Markdown object>"
      ]
     },
     "execution_count": 2,
     "metadata": {},
     "output_type": "execute_result"
    }
   ],
   "source": [
    "training_data = datasets.MNIST(\n",
    "    root='~/Downloads/',\n",
    "    train=True,\n",
    "    download=True,\n",
    "    transform=ToTensor()\n",
    ")\n",
    "\n",
    "test_data = datasets.MNIST(\n",
    "    root='~/Downloads/',\n",
    "    train=False,\n",
    "    download=True,\n",
    "    transform=ToTensor()\n",
    ")\n",
    "\n",
    "content = \"\"\"\n",
    "The data is contained in the ```training_data.data``` and the labels\n",
    "in ```training_data.targets```.\n",
    "\n",
    "You can also access the data using indexing ```training_data[index]```\n",
    "\n",
    "The ```Dataset``` retrieves our dataset’s features and labels one sample at a time. While training a model, \n",
    "we typically want to pass samples in “minibatches”, reshuffle the data at every epoch to reduce model overfitting\n",
    "\n",
    "```DataLoader``` is an iterable that abstracts this complexity for us in an easy API.\n",
    "\n",
    "```train_features, train_labels = next(iter(train_dataloader))```\n",
    "\n",
    "[Additional Reading](https://pytorch.org/tutorials/beginner/basics/data_tutorial.html)\n",
    "\"\"\"\n",
    "\n",
    "batchsize = 64\n",
    "train_dataloader = DataLoader(training_data, batch_size=batchsize, shuffle=True)\n",
    "test_dataloader = DataLoader(test_data, batch_size=8, shuffle=True)\n",
    "\n",
    "Markdown(content)"
   ]
  },
  {
   "cell_type": "markdown",
   "id": "5873b2ab-5aee-421f-b23c-162978d5f690",
   "metadata": {},
   "source": [
    "### 2.  Create a multiclass logistic regression (softmax) model and train"
   ]
  },
  {
   "cell_type": "code",
   "execution_count": 3,
   "id": "90ef326d-e788-4bf5-a766-1c24b580d4a3",
   "metadata": {},
   "outputs": [
    {
     "ename": "NameError",
     "evalue": "name 'device' is not defined",
     "output_type": "error",
     "traceback": [
      "\u001b[0;31m---------------------------------------------------------------------------\u001b[0m",
      "\u001b[0;31mNameError\u001b[0m                                 Traceback (most recent call last)",
      "Cell \u001b[0;32mIn[3], line 28\u001b[0m\n\u001b[1;32m     25\u001b[0m \u001b[38;5;28;01mfor\u001b[39;00m i, data \u001b[38;5;129;01min\u001b[39;00m \u001b[38;5;28menumerate\u001b[39m(train_dataloader):\n\u001b[1;32m     27\u001b[0m     inputs, labels \u001b[38;5;241m=\u001b[39m data\n\u001b[0;32m---> 28\u001b[0m     inputs \u001b[38;5;241m=\u001b[39m inputs\u001b[38;5;241m.\u001b[39mto(\u001b[43mdevice\u001b[49m)\n\u001b[1;32m     29\u001b[0m     labels \u001b[38;5;241m=\u001b[39m labels\u001b[38;5;241m.\u001b[39mto(device)\n\u001b[1;32m     31\u001b[0m     inputs \u001b[38;5;241m=\u001b[39m inputs\u001b[38;5;241m.\u001b[39mreshape(inputs\u001b[38;5;241m.\u001b[39mshape[\u001b[38;5;241m0\u001b[39m],\u001b[38;5;241m-\u001b[39m\u001b[38;5;241m1\u001b[39m)\n",
      "\u001b[0;31mNameError\u001b[0m: name 'device' is not defined"
     ]
    }
   ],
   "source": [
    "#device = torch.device('cuda:0' if torch.cuda.is_available() else 'cpu')\n",
    "#device = torch.device('mps')\n",
    "\n",
    "class mnistClassifier(nn.Module):\n",
    "    def __init__(self):\n",
    "\n",
    "        super(mnistClassifier, self).__init__()\n",
    "        self.h = nn.Sequential(\n",
    "                         nn.Linear(784, 10, bias=True),\n",
    "                         nn.LogSoftmax(dim=1)\n",
    "                      )\n",
    "\n",
    "    def forward(self, x):\n",
    "        x = self.h(x)\n",
    "        return x\n",
    "        \n",
    "hypothesis = mnistClassifier()\n",
    "\n",
    "optimizer = optim.SGD(hypothesis.parameters(), lr = .001) # stochastic gradient descent with learning rate lr\n",
    "Cost = nn.NLLLoss() # Negative log likelihood loss\n",
    "\n",
    "J_history = []\n",
    "for epoch in range(10):\n",
    "    running_loss = 0\n",
    "    for i, data in enumerate(train_dataloader):\n",
    "        \n",
    "        inputs, labels = data\n",
    "        inputs = inputs.to(device)\n",
    "        labels = labels.to(device)\n",
    "        \n",
    "        inputs = inputs.reshape(inputs.shape[0],-1)\n",
    "        \n",
    "        optimizer.zero_grad()\n",
    "        # forward pass\n",
    "        out = hypothesis(inputs)\n",
    "\n",
    "        loss = Cost(out, labels)\n",
    "\n",
    "        # backward pass\n",
    "        loss.backward()\n",
    "\n",
    "        # update paramters\n",
    "        optimizer.step()\n",
    "\n",
    "        \n",
    "        running_loss += loss.item()\n",
    "        \n",
    "        if i%300 == 0:\n",
    "            print(f'Epoch {epoch+1}:{i+1} Loss: {loss.item()}')\n",
    "            \n",
    "    J_history += [running_loss]"
   ]
  },
  {
   "cell_type": "markdown",
   "id": "83c25cfe-173b-4ac6-b083-b86c7bb263fb",
   "metadata": {},
   "source": [
    "### 3. Plot Convergence plot of gradient descent with respect to no of epochs"
   ]
  },
  {
   "cell_type": "code",
   "execution_count": 102,
   "id": "2dfab232-6aba-469d-9c17-fc5152591325",
   "metadata": {},
   "outputs": [
    {
     "data": {
      "image/png": "[encoded data removed]",
      "text/plain": [
       "<Figure size 640x480 with 1 Axes>"
      ]
     },
     "metadata": {},
     "output_type": "display_data"
    }
   ],
   "source": [
    "from matplotlib import pyplot as plt\n",
    "plt.plot(J_history)\n",
    "plt.title('Convergence plot of gradient descent')\n",
    "plt.xlabel('No of Epochs')\n",
    "plt.ylabel('J')\n",
    "plt.show()"
   ]
  },
  {
   "cell_type": "markdown",
   "id": "9b675498-4f92-4e6e-b01a-970449be7e8a",
   "metadata": {},
   "source": [
    "### 4. Test on a batch of test images and display images with the predicted label"
   ]
  },
  {
   "cell_type": "code",
   "execution_count": 103,
   "id": "e6ea7bc2-bf92-4081-9c1a-6d2dbbd4cd76",
   "metadata": {},
   "outputs": [
    {
     "data": {
      "image/png": "[encoded data removed]",
      "text/plain": [
       "<Figure size 640x480 with 6 Axes>"
      ]
     },
     "metadata": {},
     "output_type": "display_data"
    }
   ],
   "source": [
    "# test on one batch of test data\n",
    "inputs_im, labels =  next(iter(test_dataloader))\n",
    "inputs = inputs_im.to(device)\n",
    "labels = labels.to(device)\n",
    "inputs = inputs.reshape(inputs.shape[0],-1)\n",
    "out = hypothesis(inputs)\n",
    "pr = torch.argmax(out, dim=1) # predicted labels\n",
    "\n",
    "fig = plt.figure()\n",
    "for i in range(6):\n",
    "    plt.subplot(2,3,i+1)\n",
    "    plt.tight_layout()\n",
    "    im = torch.squeeze(inputs_im[i].detach(), dim=0).numpy()\n",
    "    plt.imshow(im, cmap='gray', interpolation='none')\n",
    "    plt.title(\"Predicted: {}\".format(pr[i]))\n",
    "    plt.xticks([])\n",
    "    plt.yticks([])\n"
   ]
  },
  {
   "cell_type": "code",
   "execution_count": null,
   "id": "c2ad2587-8411-4c50-80aa-2332a209b79c",
   "metadata": {},
   "outputs": [],
   "source": []
  }
 ],
 "metadata": {
  "kernelspec": {
   "display_name": "Python 3 (ipykernel)",
   "language": "python",
   "name": "python3"
  },
  "language_info": {
   "codemirror_mode": {
    "name": "ipython",
    "version": 3
   },
   "file_extension": ".py",
   "mimetype": "text/x-python",
   "name": "python",
   "nbconvert_exporter": "python",
   "pygments_lexer": "ipython3",
   "version": "3.10.10"
  }
 },
 "nbformat": 4,
 "nbformat_minor": 5
}

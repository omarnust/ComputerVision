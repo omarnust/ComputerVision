{
 "cells": [
  {
   "cell_type": "code",
   "execution_count": 1,
   "id": "fe71c792-9abf-44de-85fe-a8580c3c56cb",
   "metadata": {},
   "outputs": [],
   "source": [
    "import torch\n",
    "from torch import nn\n",
    "from torch import optim\n",
    "from torch.utils.data import Dataset\n",
    "from torch.utils.data import DataLoader\n",
    "from torchvision import datasets\n",
    "from torchvision import transforms\n",
    "from torchvision.transforms import ToTensor\n",
    "\n",
    "import numpy as np\n",
    "from matplotlib import pyplot as plt"
   ]
  },
  {
   "attachments": {},
   "cell_type": "markdown",
   "id": "85c22847-417b-49bf-b32d-15ed0b0a1fd5",
   "metadata": {},
   "source": [
    "## Weight Initialization\n",
    "In a neural network, if all weights are initialized with the same constant value, then during the backpropagation process, all the weights would be updated with the same gradient. This means that all the neurons in the hidden layer would learn the same features during training. \r\n",
    "\r\n",
    "This is why it’s common to initialize the weights randomly. \r\n",
    "Random initialization breaks the symmetry and allows the neurons to learn different features from the data\n",
    "The weights should not be too small or too big otherwise it can lead to vanishing gradient or exploding gradients\r\n",
    ". \r\n",
    "\r\n",
    "There are several strategies for weight initialization, such as Xavier/Glorot initialization and He initialization, which take into account the size of the previous layer in the network to scale the random weights. These methods can help speed up the convergence of the training prand prevent vanishing gradient or exploding gradientstwata.\r\n",
    "\r\n"
   ]
  },
  {
   "cell_type": "code",
   "execution_count": 2,
   "id": "b5ba52a3-b560-4699-98c0-e730621d2a30",
   "metadata": {},
   "outputs": [
    {
     "name": "stdout",
     "output_type": "stream",
     "text": [
      "Files already downloaded and verified\n",
      "Files already downloaded and verified\n"
     ]
    }
   ],
   "source": [
    "torch.manual_seed(0)\n",
    "transform=transforms.Compose([transforms.ToTensor(),\n",
    "                              transforms.Normalize(\n",
    "                                           mean=(0.5,0.5,0.5), \n",
    "                                           std=(0.5,0.5,0.5))])\n",
    "trainset = datasets.CIFAR10(\n",
    "    root='~/Downloads/',\n",
    "    train=True,\n",
    "    download=True,\n",
    "    transform=transform\n",
    ")\n",
    "\n",
    "testset = datasets.CIFAR10(\n",
    "    root='~/Downloads/',\n",
    "    train=False,\n",
    "    download=True,\n",
    "    transform=transform\n",
    ")\n",
    "\n",
    "batchsize = 64\n",
    "trainloader = DataLoader(trainset, batch_size=batchsize, shuffle=True)\n",
    "testloader = DataLoader(testset, batch_size=batchsize, shuffle=False)"
   ]
  },
  {
   "cell_type": "code",
   "execution_count": 58,
   "id": "11bfc920-0df2-4d65-876d-2dc6d2de019c",
   "metadata": {},
   "outputs": [],
   "source": [
    "device = torch.device('mps')\n",
    "\n",
    "def weights_init_zero(m):\n",
    "    if isinstance(m, nn.Conv2d) or isinstance(m, nn.Linear):\n",
    "        torch.nn.init.zeros_(m.weight)\n",
    "        torch.nn.init.zeros_(m.bias)\n",
    "        #m.weight.data.fill_(0)\n",
    "        #m.bias.data.fill_(0)\n",
    "\n",
    "def weights_init_random(m):\n",
    "    if isinstance(m, nn.Conv2d) or isinstance(m, nn.Linear):\n",
    "        torch.nn.init.normal_(m.weight, mean=0, std=0.01)\n",
    "        torch.nn.init.normal_(m.bias, mean=0, std=0.01)\n",
    "        #m.weight.data.fill_(0)\n",
    "        #m.bias.data.fill_(0)\n",
    "\n",
    "def weights_init_xavier(m):\n",
    "    if isinstance(m, nn.Conv2d) or isinstance(m, nn.Linear):\n",
    "        torch.nn.init.xavier_normal_(m.weight.data)\n",
    "        m.bias.data.fill_(0.01)\n",
    "\n",
    "def weights_init_kaiming(m):\n",
    "    if isinstance(m, nn.Conv2d) or isinstance(m, nn.Linear):\n",
    "        torch.nn.init.kaiming_normal_(m.weight.data)\n",
    "        m.bias.data.fill_(0.01)\n",
    "\n",
    "\n",
    "class MyCnnModel(nn.Module):\n",
    "    def __init__(self):\n",
    "        super().__init__()\n",
    "        \n",
    "        self.network1 = nn.Sequential(\n",
    "            nn.Conv2d(in_channels=3, out_channels=4, kernel_size=3, stride=1, padding=1), # output: 4x32x32\n",
    "            nn.BatchNorm2d(4, affine=False), # affine=False -> Without Learnable Parameters\n",
    "            nn.ReLU(),\n",
    "            \n",
    "            nn.Conv2d(in_channels=4, out_channels=8, kernel_size=3, stride=1, padding=1), # output: 8X32x32\n",
    "            nn.BatchNorm2d(8, affine=False),\n",
    "            nn.ReLU(),\n",
    "            nn.MaxPool2d(kernel_size=4, stride=4), # output: 8x8x8\n",
    "\n",
    "            torch.nn.Dropout(p=0.5),\n",
    "            \n",
    "            nn.Flatten(), \n",
    "            nn.Linear(8*8*8, 128),\n",
    "            nn.BatchNorm1d(128, affine=False),\n",
    "            nn.ReLU(),\n",
    "            nn.Linear(128, 10)\n",
    "        )\n",
    "    def forward(self, x):\n",
    "        return self.network1(x)\n",
    "        "
   ]
  },
  {
   "cell_type": "code",
   "execution_count": 59,
   "id": "b0cb5703-c1d4-47af-b831-f33f2921336d",
   "metadata": {},
   "outputs": [
    {
     "name": "stdout",
     "output_type": "stream",
     "text": [
      "MyCnnModel(\n",
      "  (network1): Sequential(\n",
      "    (0): Conv2d(3, 4, kernel_size=(3, 3), stride=(1, 1), padding=(1, 1))\n",
      "    (1): BatchNorm2d(4, eps=1e-05, momentum=0.1, affine=False, track_running_stats=True)\n",
      "    (2): ReLU()\n",
      "    (3): Conv2d(4, 8, kernel_size=(3, 3), stride=(1, 1), padding=(1, 1))\n",
      "    (4): BatchNorm2d(8, eps=1e-05, momentum=0.1, affine=False, track_running_stats=True)\n",
      "    (5): ReLU()\n",
      "    (6): MaxPool2d(kernel_size=4, stride=4, padding=0, dilation=1, ceil_mode=False)\n",
      "    (7): Dropout(p=0.5, inplace=False)\n",
      "    (8): Flatten(start_dim=1, end_dim=-1)\n",
      "    (9): Linear(in_features=512, out_features=128, bias=True)\n",
      "    (10): BatchNorm1d(128, eps=1e-05, momentum=0.1, affine=False, track_running_stats=True)\n",
      "    (11): ReLU()\n",
      "    (12): Linear(in_features=128, out_features=10, bias=True)\n",
      "  )\n",
      ")\n"
     ]
    }
   ],
   "source": [
    "model = MyCnnModel()\n",
    "model.to(device)\n",
    "model.apply(weights_init_kaiming)\n",
    "print(model)"
   ]
  },
  {
   "cell_type": "code",
   "execution_count": 60,
   "id": "ba44e508-e311-4605-ab79-5caf28711c01",
   "metadata": {},
   "outputs": [],
   "source": [
    "criteria = nn.CrossEntropyLoss()\n",
    "\n",
    "optimizer = optim.SDG(model.parameters(), lr = 0.001, momentum=0.9, weight_delay=0.1) # l2 regularzation is specified by setting the weight_delay parameter\n",
    "optimizer = optim.Adam(model.parameters(), lr = 0.001) # betas=(0.9, 0.999) \n",
    "                                                       # coeffcients used in computing \n",
    "                                                       # running averages of gradient and its square \n",
    "\n",
    "\n",
    "train_history = []\n",
    "val_history = []"
   ]
  },
  {
   "cell_type": "code",
   "execution_count": 61,
   "id": "d00fe439-24d0-4d29-945b-2ef2e0182a65",
   "metadata": {},
   "outputs": [
    {
     "name": "stdout",
     "output_type": "stream",
     "text": [
      "Epoch [0], train loss: 0.02751876294374466, val loss: 0.02461520879268646\n",
      "Epoch [1], train loss: 0.023747540769577025, val loss: 0.02313380129337311\n",
      "Epoch [2], train loss: 0.022619037780761717, val loss: 0.02216278233528137\n",
      "Epoch [3], train loss: 0.021840043535232542, val loss: 0.02184697983264923\n",
      "Epoch [4], train loss: 0.021301232018470763, val loss: 0.021399013698101044\n",
      "Epoch [5], train loss: 0.020899127616882323, val loss: 0.021118179857730866\n",
      "Epoch [6], train loss: 0.020603085852861403, val loss: 0.020768913388252257\n",
      "Epoch [7], train loss: 0.020333532519340516, val loss: 0.02056806229352951\n",
      "Epoch [8], train loss: 0.01999672761797905, val loss: 0.020537944477796555\n",
      "Epoch [9], train loss: 0.019880407049655914, val loss: 0.02031780999302864\n",
      "Finished Training\n"
     ]
    }
   ],
   "source": [
    "# Training loop\n",
    "model.train() # tell the model that your are trainin the model\n",
    "for epoch in range(10):\n",
    "    train_loss = 0.0\n",
    "    for i, data in enumerate(trainloader):\n",
    "        inputs, labels = data\n",
    "        inputs = inputs.to(device)\n",
    "        labels = labels.to(device)\n",
    "        \n",
    "        optimizer.zero_grad()  \n",
    "        outputs = model(inputs)\n",
    "        \n",
    "        loss = criteria(outputs, labels)\n",
    "        loss.backward()\n",
    "        \n",
    "        optimizer.step()\n",
    "        \n",
    "        train_loss += loss.item()\n",
    "\n",
    "    # validation\n",
    "    with torch.no_grad():\n",
    "        val_loss = 0\n",
    "        for data in testloader:\n",
    "            inputs, labels = data\n",
    "            inputs = inputs.to(device)\n",
    "            labels = labels.to(device)\n",
    "            outputs = model(inputs)\n",
    "            loss = criteria(outputs, labels)\n",
    "            val_loss += loss.item()\n",
    "            \n",
    "    print(f'Epoch [{epoch}], train loss: {train_loss/len(trainset)}, val loss: {val_loss/len(testset)}')        \n",
    "    train_history += [train_loss/len(trainset)]\n",
    "    val_history += [val_loss/len(testset)]\n",
    "print(\"Finished Training\")"
   ]
  },
  {
   "cell_type": "code",
   "execution_count": 56,
   "id": "f3980a91-cefd-429a-848a-24fb6f27cbbf",
   "metadata": {},
   "outputs": [
    {
     "name": "stderr",
     "output_type": "stream",
     "text": [
      "/var/folders/0z/jwyfm58j7tj7lm38fjwq8dvw0000gq/T/ipykernel_10695/1543011309.py:7: UserWarning: Legend does not support handles for str instances.\n",
      "A proxy artist may be used instead.\n",
      "See: https://matplotlib.org/stable/users/explain/axes/legend_guide.html#controlling-the-legend-entries\n",
      "  plt.legend('train loss', 'val loss')\n"
     ]
    },
    {
     "data": {
      "image/png": "[encoded data removed]",
      "text/plain": [
       "<Figure size 640x480 with 1 Axes>"
      ]
     },
     "metadata": {},
     "output_type": "display_data"
    }
   ],
   "source": [
    "from matplotlib import pyplot as plt\n",
    "plt.plot(train_history, 'b')\n",
    "plt.plot(val_history, 'r')\n",
    "plt.title('Convergence plot of gradient descent')\n",
    "plt.xlabel('No of Epochs')\n",
    "plt.ylabel('J')\n",
    "plt.legend('train loss', 'val loss')\n",
    "plt.show()"
   ]
  },
  {
   "cell_type": "markdown",
   "id": "e6104368-b25d-4ad9-8382-4838b8945312",
   "metadata": {},
   "source": [
    "# Exercise: \n",
    "Try different initialization, regularization (dropout, l2 regularization), and see the effect on the training and validation error."
   ]
  },
  {
   "cell_type": "code",
   "execution_count": null,
   "id": "57a7a8cf-76fc-4204-95a8-0206f6c47a9b",
   "metadata": {},
   "outputs": [],
   "source": []
  }
 ],
 "metadata": {
  "kernelspec": {
   "display_name": "Python 3 (ipykernel)",
   "language": "python",
   "name": "python3"
  },
  "language_info": {
   "codemirror_mode": {
    "name": "ipython",
    "version": 3
   },
   "file_extension": ".py",
   "mimetype": "text/x-python",
   "name": "python",
   "nbconvert_exporter": "python",
   "pygments_lexer": "ipython3",
   "version": "3.10.10"
  }
 },
 "nbformat": 4,
 "nbformat_minor": 5
}
